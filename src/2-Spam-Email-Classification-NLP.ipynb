{
 "cells": [
  {
   "cell_type": "markdown",
   "metadata": {},
   "source": [
    "### Importing libraries"
   ]
  },
  {
   "cell_type": "code",
   "execution_count": 1,
   "metadata": {},
   "outputs": [],
   "source": [
    "from PIL import Image\n",
    "import pandas as pd, numpy as np, time, string, re, nltk\n",
    "from nltk.corpus import stopwords\n",
    "\n",
    "from sklearn.feature_extraction.text import TfidfVectorizer\n",
    "from sklearn.linear_model import SGDClassifier\n",
    "from sklearn.naive_bayes import MultinomialNB\n",
    "from sklearn.svm import SVC\n",
    "import xgboost\n",
    "\n",
    "from sklearn.preprocessing import LabelEncoder\n",
    "from sklearn.decomposition import PCA\n",
    "from sklearn.model_selection import RandomizedSearchCV\n",
    "from sklearn.model_selection import train_test_split\n",
    "from sklearn.metrics import classification_report\n",
    "from sklearn.pipeline import Pipeline\n",
    "import shap"
   ]
  },
  {
   "cell_type": "markdown",
   "metadata": {},
   "source": [
    "### Loading the dataset"
   ]
  },
  {
   "cell_type": "code",
   "execution_count": 2,
   "metadata": {},
   "outputs": [],
   "source": [
    "df = pd.read_csv(\"./../data/email-messages-analysis.csv\", encoding= 'unicode_escape')"
   ]
  },
  {
   "cell_type": "markdown",
   "metadata": {},
   "source": [
    "Filtering only the full description and email type columns for this analysis."
   ]
  },
  {
   "cell_type": "code",
   "execution_count": 3,
   "metadata": {},
   "outputs": [],
   "source": [
    "df = df[['Full_Text','Email_Type']].copy()"
   ]
  },
  {
   "cell_type": "code",
   "execution_count": 4,
   "metadata": {},
   "outputs": [
    {
     "data": {
      "text/plain": [
       "'Missing values: 0'"
      ]
     },
     "execution_count": 4,
     "metadata": {},
     "output_type": "execute_result"
    }
   ],
   "source": [
    "f\"Missing values: {df.isna().sum().sum()}\""
   ]
  },
  {
   "cell_type": "code",
   "execution_count": 5,
   "metadata": {},
   "outputs": [
    {
     "data": {
      "text/plain": [
       "'Dataframe shape: (5574, 2)'"
      ]
     },
     "execution_count": 5,
     "metadata": {},
     "output_type": "execute_result"
    }
   ],
   "source": [
    "f\"Dataframe shape: {df.shape}\""
   ]
  },
  {
   "cell_type": "markdown",
   "metadata": {},
   "source": [
    "The description column will suffer some changes. So let's keep a copy of the original description for later analysis."
   ]
  },
  {
   "cell_type": "code",
   "execution_count": 6,
   "metadata": {},
   "outputs": [],
   "source": [
    "df['Full_Text_Orig'] = df['Full_Text']\n",
    "df = df[['Full_Text_Orig','Full_Text','Email_Type']]"
   ]
  },
  {
   "cell_type": "markdown",
   "metadata": {},
   "source": [
    "### Preprocessing the description field\n",
    "\n",
    "The original description contains elements that are not relevant for the classification of the email content. So let's remove them.   "
   ]
  },
  {
   "cell_type": "markdown",
   "metadata": {},
   "source": [
    "Convert all characters to lower case"
   ]
  },
  {
   "cell_type": "code",
   "execution_count": null,
   "metadata": {},
   "outputs": [],
   "source": [
    "column = 'Full_Text'\n",
    "df[column] = df[column].str.lower()"
   ]
  },
  {
   "cell_type": "markdown",
   "metadata": {},
   "source": [
    "Remove special characters"
   ]
  },
  {
   "cell_type": "code",
   "execution_count": null,
   "metadata": {},
   "outputs": [],
   "source": [
    "df[column] = df[column].str.normalize('NFKD')\\\n",
    "            .str.encode('ascii', errors='ignore')\\\n",
    "            .str.decode('utf-8')"
   ]
  },
  {
   "cell_type": "code",
   "execution_count": null,
   "metadata": {},
   "outputs": [],
   "source": [
    "Remove substrings containing only numbers, or a mixture of numbers and letters"
   ]
  },
  {
   "cell_type": "code",
   "execution_count": null,
   "metadata": {},
   "outputs": [],
   "source": [
    "# remove substrings containing letters and numbers\n",
    "df[column] = df[column].str.replace(r'\\b(\\d+[A-Z]|[A-Z]+\\d)[A-Z\\d]*\\b', '', regex=True)\n",
    "# remove substrings containing only numbers\n",
    "df[column] = df[column].str.replace(r'\\b\\d+\\b','', regex=True)"
   ]
  },
  {
   "cell_type": "markdown",
   "metadata": {},
   "source": [
    "Remove punctuation and sequences of repetitions of dots or white spaces "
   ]
  },
  {
   "cell_type": "code",
   "execution_count": null,
   "metadata": {},
   "outputs": [],
   "source": [
    "# remove punctuation\n",
    "df[column] = df[column].apply(lambda x: re.sub(r'[^\\w\\s]','',x))\n",
    "# remove sequence of '.'\n",
    "df[column] = df[column].str.replace(r'\\.+', ' ', regex=True)\n",
    "# remove sequence of white spaces\n",
    "df[column] = df[column].str.replace(r'\\s+', ' ', regex=True).str.strip()"
   ]
  },
  {
   "cell_type": "markdown",
   "metadata": {},
   "source": [
    "Remove the stopwords (commonly used words that does not have a significant contribution to the understanding of a sentence)"
   ]
  },
  {
   "cell_type": "code",
   "execution_count": 7,
   "metadata": {},
   "outputs": [],
   "source": [
    "english_stopwords = stopwords.words('english')\n",
    "# remove stopwords\n",
    "df[column] = df[column].apply(lambda x: [elem for elem in x.split() if elem not in english_stopwords])\n",
    "df[column] = df[column].str.join(' ')\n",
    "\n",
    "# remove substrings of length 1\n",
    "#df[column] = df[column].apply(lambda x: [elem for elem in x.split() if len(elem)>1])\n",
    "#df[column] = df[column].str.join(' ')"
   ]
  },
  {
   "cell_type": "code",
   "execution_count": 8,
   "metadata": {},
   "outputs": [
    {
     "data": {
      "text/html": [
       "<div>\n",
       "<style scoped>\n",
       "    .dataframe tbody tr th:only-of-type {\n",
       "        vertical-align: middle;\n",
       "    }\n",
       "\n",
       "    .dataframe tbody tr th {\n",
       "        vertical-align: top;\n",
       "    }\n",
       "\n",
       "    .dataframe thead th {\n",
       "        text-align: right;\n",
       "    }\n",
       "</style>\n",
       "<table border=\"1\" class=\"dataframe\">\n",
       "  <thead>\n",
       "    <tr style=\"text-align: right;\">\n",
       "      <th></th>\n",
       "      <th>Full_Text_Orig</th>\n",
       "      <th>Full_Text</th>\n",
       "      <th>Email_Type</th>\n",
       "    </tr>\n",
       "  </thead>\n",
       "  <tbody>\n",
       "    <tr>\n",
       "      <th>2146</th>\n",
       "      <td>Erm Â",
       " ill pick you up at about 6.45pm. That'l...</td>\n",
       "      <td>erm ill pick 45pm thatll give enough time get ...</td>\n",
       "      <td>Email</td>\n",
       "    </tr>\n",
       "    <tr>\n",
       "      <th>2210</th>\n",
       "      <td>You are right. Meanwhile how's project twins c...</td>\n",
       "      <td>right meanwhile hows project twins comin</td>\n",
       "      <td>Email</td>\n",
       "    </tr>\n",
       "    <tr>\n",
       "      <th>2819</th>\n",
       "      <td>Haha yeah I see that now, be there in a sec</td>\n",
       "      <td>haha yeah see sec</td>\n",
       "      <td>Email</td>\n",
       "    </tr>\n",
       "    <tr>\n",
       "      <th>3065</th>\n",
       "      <td>Alright took the morphine. Back in yo.</td>\n",
       "      <td>alright took morphine back yo</td>\n",
       "      <td>Email</td>\n",
       "    </tr>\n",
       "    <tr>\n",
       "      <th>4051</th>\n",
       "      <td>You have been specially selected to receive a ...</td>\n",
       "      <td>specially selected receive award call lines cl...</td>\n",
       "      <td>Spam Email</td>\n",
       "    </tr>\n",
       "    <tr>\n",
       "      <th>207</th>\n",
       "      <td>Tell my  bad character which u Dnt lik in me. ...</td>\n",
       "      <td>tell bad character u dnt lik ill try change lt...</td>\n",
       "      <td>Email</td>\n",
       "    </tr>\n",
       "    <tr>\n",
       "      <th>1166</th>\n",
       "      <td>Sorry, I'll call later</td>\n",
       "      <td>sorry ill call later</td>\n",
       "      <td>Email</td>\n",
       "    </tr>\n",
       "    <tr>\n",
       "      <th>3980</th>\n",
       "      <td>Storming msg: Wen u lift d phne, u say \"HELLO\"...</td>\n",
       "      <td>storming msg wen u lift phne u say hello u knw...</td>\n",
       "      <td>Email</td>\n",
       "    </tr>\n",
       "    <tr>\n",
       "      <th>1564</th>\n",
       "      <td>Oh god. I'm gonna Google nearby cliffs now.</td>\n",
       "      <td>oh god im gonna google nearby cliffs</td>\n",
       "      <td>Email</td>\n",
       "    </tr>\n",
       "    <tr>\n",
       "      <th>4883</th>\n",
       "      <td>Mila, age23, blonde, new in UK. I look sex wit...</td>\n",
       "      <td>mila age23 blonde new uk look sex uk guys u li...</td>\n",
       "      <td>Spam Email</td>\n",
       "    </tr>\n",
       "  </tbody>\n",
       "</table>\n",
       "</div>"
      ],
      "text/plain": [
       "                                         Full_Text_Orig  \\\n",
       "2146  Erm Â\n",
       " ill pick you up at about 6.45pm. That'l...   \n",
       "2210  You are right. Meanwhile how's project twins c...   \n",
       "2819        Haha yeah I see that now, be there in a sec   \n",
       "3065             Alright took the morphine. Back in yo.   \n",
       "4051  You have been specially selected to receive a ...   \n",
       "207   Tell my  bad character which u Dnt lik in me. ...   \n",
       "1166                             Sorry, I'll call later   \n",
       "3980  Storming msg: Wen u lift d phne, u say \"HELLO\"...   \n",
       "1564        Oh god. I'm gonna Google nearby cliffs now.   \n",
       "4883  Mila, age23, blonde, new in UK. I look sex wit...   \n",
       "\n",
       "                                              Full_Text  Email_Type  \n",
       "2146  erm ill pick 45pm thatll give enough time get ...       Email  \n",
       "2210           right meanwhile hows project twins comin       Email  \n",
       "2819                                  haha yeah see sec       Email  \n",
       "3065                      alright took morphine back yo       Email  \n",
       "4051  specially selected receive award call lines cl...  Spam Email  \n",
       "207   tell bad character u dnt lik ill try change lt...       Email  \n",
       "1166                               sorry ill call later       Email  \n",
       "3980  storming msg wen u lift phne u say hello u knw...       Email  \n",
       "1564               oh god im gonna google nearby cliffs       Email  \n",
       "4883  mila age23 blonde new uk look sex uk guys u li...  Spam Email  "
      ]
     },
     "execution_count": 8,
     "metadata": {},
     "output_type": "execute_result"
    }
   ],
   "source": [
    "df.sample(10)"
   ]
  },
  {
   "cell_type": "markdown",
   "metadata": {},
   "source": [
    "### Encode the categorical data"
   ]
  },
  {
   "cell_type": "code",
   "execution_count": 9,
   "metadata": {},
   "outputs": [
    {
     "name": "stdout",
     "output_type": "stream",
     "text": [
      "Email type: ['Email' 'Spam Email']\n"
     ]
    }
   ],
   "source": [
    "le = LabelEncoder()\n",
    "df[\"Email_Type\"] = le.fit_transform(df[\"Email_Type\"])\n",
    "print(f\"Email type: {le.classes_}\")"
   ]
  },
  {
   "cell_type": "markdown",
   "metadata": {},
   "source": [
    "### Defining our target **Email_Type** and feature **Full_Text** (email description)"
   ]
  },
  {
   "cell_type": "code",
   "execution_count": 10,
   "metadata": {},
   "outputs": [],
   "source": [
    "X = df.drop(['Email_Type','Full_Text_Orig'], axis=1)\n",
    "y = df['Email_Type']\n",
    "\n",
    "Xtrain, Xtest, ytrain, ytest = train_test_split(X, y,test_size=0.2, stratify=y, random_state=42)"
   ]
  },
  {
   "cell_type": "markdown",
   "metadata": {},
   "source": [
    "### Applying the vectorizer Tf-idf to the email description feature"
   ]
  },
  {
   "cell_type": "code",
   "execution_count": 11,
   "metadata": {},
   "outputs": [],
   "source": [
    "tfidf = TfidfVectorizer()\n",
    "Xtrain_vet = tfidf.fit_transform(Xtrain.Full_Text)\n",
    "Xtest_vet = tfidf.transform(Xtest.Full_Text)"
   ]
  },
  {
   "cell_type": "code",
   "execution_count": 12,
   "metadata": {},
   "outputs": [],
   "source": [
    "sgdc = SGDClassifier().fit(Xtrain_vet, ytrain)\n",
    "ypred = sgdc.predict(Xtest_vet)"
   ]
  },
  {
   "cell_type": "code",
   "execution_count": 13,
   "metadata": {},
   "outputs": [
    {
     "name": "stdout",
     "output_type": "stream",
     "text": [
      "              precision    recall  f1-score   support\n",
      "\n",
      "       Email       1.00      0.98      0.99       980\n",
      "  Spam Email       0.89      0.99      0.94       135\n",
      "\n",
      "    accuracy                           0.98      1115\n",
      "   macro avg       0.95      0.98      0.96      1115\n",
      "weighted avg       0.99      0.98      0.98      1115\n",
      "\n"
     ]
    }
   ],
   "source": [
    "print(classification_report(ypred, ytest, target_names=le.classes_))"
   ]
  },
  {
   "cell_type": "code",
   "execution_count": 14,
   "metadata": {},
   "outputs": [
    {
     "name": "stdout",
     "output_type": "stream",
     "text": [
      "              precision    recall  f1-score   support\n",
      "\n",
      "       Email       1.00      0.97      0.98       996\n",
      "  Spam Email       0.79      0.99      0.88       119\n",
      "\n",
      "    accuracy                           0.97      1115\n",
      "   macro avg       0.90      0.98      0.93      1115\n",
      "weighted avg       0.98      0.97      0.97      1115\n",
      "\n"
     ]
    }
   ],
   "source": [
    "svc = SVC().fit(Xtrain_vet, ytrain)\n",
    "ypred = svc.predict(Xtest_vet)\n",
    "\n",
    "print(classification_report(ypred, ytest, target_names=le.classes_))"
   ]
  },
  {
   "cell_type": "code",
   "execution_count": 15,
   "metadata": {},
   "outputs": [
    {
     "name": "stderr",
     "output_type": "stream",
     "text": [
      "The total space of parameters 6 is smaller than n_iter=10. Running 6 iterations. For exhaustive searches, use GridSearchCV.\n"
     ]
    },
    {
     "data": {
      "text/plain": [
       "{'kernel': 'linear', 'C': 10}"
      ]
     },
     "execution_count": 15,
     "metadata": {},
     "output_type": "execute_result"
    }
   ],
   "source": [
    "params = {\n",
    "    'kernel': ('linear','rbf'),\n",
    "    'C': [1,10,100]\n",
    "}\n",
    "\n",
    "clf = RandomizedSearchCV(svc, params, random_state=0)\n",
    "search = clf.fit(Xtrain_vet, ytrain)\n",
    "search.best_params_"
   ]
  },
  {
   "cell_type": "code",
   "execution_count": 16,
   "metadata": {},
   "outputs": [
    {
     "name": "stdout",
     "output_type": "stream",
     "text": [
      "              precision    recall  f1-score   support\n",
      "\n",
      "       Email       1.00      0.98      0.99       983\n",
      "  Spam Email       0.88      0.99      0.93       132\n",
      "\n",
      "    accuracy                           0.98      1115\n",
      "   macro avg       0.94      0.99      0.96      1115\n",
      "weighted avg       0.98      0.98      0.98      1115\n",
      "\n"
     ]
    }
   ],
   "source": [
    "svc = SVC(kernel='linear', C=10).fit(Xtrain_vet, ytrain)\n",
    "ypred = svc.predict(Xtest_vet)\n",
    "print(classification_report(ypred, ytest, target_names=le.classes_))"
   ]
  },
  {
   "cell_type": "code",
   "execution_count": null,
   "metadata": {},
   "outputs": [],
   "source": []
  }
 ],
 "metadata": {
  "kernelspec": {
   "display_name": "Python 3 (ipykernel)",
   "language": "python",
   "name": "python3"
  },
  "language_info": {
   "codemirror_mode": {
    "name": "ipython",
    "version": 3
   },
   "file_extension": ".py",
   "mimetype": "text/x-python",
   "name": "python",
   "nbconvert_exporter": "python",
   "pygments_lexer": "ipython3",
   "version": "3.7.4"
  }
 },
 "nbformat": 4,
 "nbformat_minor": 4
}
